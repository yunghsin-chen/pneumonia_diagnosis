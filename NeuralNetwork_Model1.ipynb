{
 "cells": [
  {
   "cell_type": "code",
   "execution_count": null,
   "metadata": {
    "colab": {
     "base_uri": "https://localhost:8080/",
     "height": 122
    },
    "id": "-dpku1y8ZKPY",
    "outputId": "6a6f976c-64d1-4231-82cf-d84041e00e34"
   },
   "outputs": [
    {
     "name": "stdout",
     "output_type": "stream",
     "text": [
      "Go to this URL in a browser: https://accounts.google.com/o/oauth2/auth?client_id=947318989803-6bn6qk8qdgf4n4g3pfee6491hc0brc4i.apps.googleusercontent.com&redirect_uri=urn%3aietf%3awg%3aoauth%3a2.0%3aoob&response_type=code&scope=email%20https%3a%2f%2fwww.googleapis.com%2fauth%2fdocs.test%20https%3a%2f%2fwww.googleapis.com%2fauth%2fdrive%20https%3a%2f%2fwww.googleapis.com%2fauth%2fdrive.photos.readonly%20https%3a%2f%2fwww.googleapis.com%2fauth%2fpeopleapi.readonly\n",
      "\n",
      "Enter your authorization code:\n",
      "··········\n",
      "Mounted at /content/drive\n"
     ]
    }
   ],
   "source": [
    "#!/usr/bin/env python\n",
    "# coding: utf-8\n",
    "\n",
    "# ==================================================================== #\n",
    "# author: Yung-Hsin Chen                                               #\n",
    "# copyright: Copyright 2019, Thermal and Statistical Physics Project   #\n",
    "# credit: Mei-Yan Sam, Sing-Hong Chen                                  #                                              \n",
    "# ==================================================================== #\n",
    "\n",
    "from google.colab import drive\n",
    "drive.mount('/content/drive')"
   ]
  },
  {
   "cell_type": "code",
   "execution_count": null,
   "metadata": {
    "colab": {
     "base_uri": "https://localhost:8080/",
     "height": 34
    },
    "id": "-42RZER9ZhdG",
    "outputId": "3545c5b2-d56c-4219-b795-7012a49cca1c"
   },
   "outputs": [
    {
     "name": "stderr",
     "output_type": "stream",
     "text": [
      "Using TensorFlow backend.\n"
     ]
    }
   ],
   "source": [
    "import os\n",
    "import tensorflow as tf\n",
    "import numpy as np\n",
    "import pandas as pd\n",
    "import matplotlib.pyplot as plt\n",
    "from keras.applications import VGG16\n",
    "from keras import layers, models\n",
    "import json\n",
    "import pandas as pd\n",
    "os.environ['KMP_DUPLICATE_LIB_OK']='True' # for MAC"
   ]
  },
  {
   "cell_type": "markdown",
   "metadata": {
    "id": "pXuivgsoZjmq"
   },
   "source": [
    "### $\\underline{Loading\\;and\\;Storing\\;Data}$\n",
    "##### - Classes: pneumonia, normal\n",
    "##### - Train (228x228x5216), Validation (228x228x16), Test (228x228x624)"
   ]
  },
  {
   "cell_type": "code",
   "execution_count": null,
   "metadata": {
    "colab": {
     "base_uri": "https://localhost:8080/",
     "height": 68
    },
    "id": "ogXhQBaIh-MI",
    "outputId": "1e3cdc09-8a93-4297-89b6-1524b46aea99"
   },
   "outputs": [
    {
     "name": "stdout",
     "output_type": "stream",
     "text": [
      "Found 5226 images belonging to 2 classes.\n",
      "Found 16 images belonging to 2 classes.\n",
      "Found 624 images belonging to 2 classes.\n"
     ]
    }
   ],
   "source": [
    "imgX = imgY = 224\n",
    "train_datagen = tf.keras.preprocessing.image.ImageDataGenerator(\n",
    "    rescale=1./255,\n",
    "    width_shift_range=0.05,\n",
    "    height_shift_range=0.15,\n",
    "    rotation_range=10,\n",
    "    zoom_range=0.1,\n",
    ")\n",
    "val_datagen = tf.keras.preprocessing.image.ImageDataGenerator(rescale=1./255)\n",
    "test_datagen = tf.keras.preprocessing.image.ImageDataGenerator(rescale=1./255)\n",
    "path = '/content/drive/My Drive/Colab Notebooks/Pneumonia_ML/chest_x_ray'\n",
    "train_generator = train_datagen.flow_from_directory(\n",
    "    path + '/data/train',\n",
    "    target_size = (imgX, imgY),\n",
    "    batch_size = 100,#5216\n",
    "    class_mode = \"binary\",\n",
    "    shuffle = True\n",
    ")\n",
    "validation_generator = val_datagen.flow_from_directory(\n",
    "    path +'/data/val',\n",
    "    target_size = (imgX, imgY),\n",
    "    batch_size = 16,\n",
    "    class_mode = \"binary\",\n",
    "    shuffle = False\n",
    ")\n",
    "test_generator = test_datagen.flow_from_directory(\n",
    "    path +'/data/test',\n",
    "    target_size = (imgX, imgY),\n",
    "    batch_size = 5,#624\n",
    "    class_mode = \"binary\",\n",
    "    shuffle = False\n",
    ")"
   ]
  },
  {
   "cell_type": "markdown",
   "metadata": {
    "id": "eVaetCCyfFXI"
   },
   "source": [
    "### $\\underline{Neural\\;Network\\;Layers}$\n",
    "##### - Pretrain: VGG16 (freeze)\n",
    "##### - Dense (Sigmoid)\n",
    "##### - Dropout (0.5)\n",
    "##### - Dense (Sigmoid)"
   ]
  },
  {
   "cell_type": "code",
   "execution_count": null,
   "metadata": {
    "id": "hJRyodz-fLZE"
   },
   "outputs": [],
   "source": [
    "model = tf.keras.Sequential()\n",
    "# pretrain\n",
    "pretrain = tf.keras.applications.vgg16.VGG16(weights = 'imagenet', include_top = False, input_tensor = tf.keras.layers.Input(shape=(imgX, imgY, 3)))\n",
    "pretrain.trainable = False\n",
    "model.add(pretrain)\n",
    "# dropout - prevent overtraining\n",
    "# lowering the capacity\n",
    "model.add(tf.keras.layers.Flatten())\n",
    "model.add(tf.keras.layers.Dense(256, activation='sigmoid'))\n",
    "model.add(tf.keras.layers.Dropout(0.5))\n",
    "model.add(tf.keras.layers.Dense(1, activation='sigmoid'))"
   ]
  },
  {
   "cell_type": "markdown",
   "metadata": {
    "id": "kd20f6wWONA4"
   },
   "source": [
    "### $\\underline{Model\\;Summary}$"
   ]
  },
  {
   "cell_type": "code",
   "execution_count": null,
   "metadata": {
    "colab": {
     "base_uri": "https://localhost:8080/",
     "height": 323
    },
    "id": "RkMdSwxZJsmw",
    "outputId": "38051b29-2c0e-4d86-9343-18812160597d"
   },
   "outputs": [
    {
     "name": "stdout",
     "output_type": "stream",
     "text": [
      "Model: \"sequential\"\n",
      "_________________________________________________________________\n",
      "Layer (type)                 Output Shape              Param #   \n",
      "=================================================================\n",
      "vgg16 (Model)                (None, 7, 7, 512)         14714688  \n",
      "_________________________________________________________________\n",
      "flatten (Flatten)            (None, 25088)             0         \n",
      "_________________________________________________________________\n",
      "dense (Dense)                (None, 256)               6422784   \n",
      "_________________________________________________________________\n",
      "dropout (Dropout)            (None, 256)               0         \n",
      "_________________________________________________________________\n",
      "dense_1 (Dense)              (None, 1)                 257       \n",
      "=================================================================\n",
      "Total params: 21,137,729\n",
      "Trainable params: 6,423,041\n",
      "Non-trainable params: 14,714,688\n",
      "_________________________________________________________________\n"
     ]
    }
   ],
   "source": [
    "model.summary()"
   ]
  },
  {
   "cell_type": "markdown",
   "metadata": {
    "id": "A2mCa6JwfNHA"
   },
   "source": [
    "### $\\underline{Training}$"
   ]
  },
  {
   "cell_type": "code",
   "execution_count": null,
   "metadata": {
    "colab": {
     "base_uri": "https://localhost:8080/",
     "height": 445
    },
    "id": "Bz0pZZoHfV_r",
    "outputId": "834e5d06-084d-4d02-e950-abc555f55ee4"
   },
   "outputs": [
    {
     "name": "stdout",
     "output_type": "stream",
     "text": [
      "START COMPILING\n",
      "START FITTING\n",
      "Epoch 1/10\n",
      "53/53 [==============================] - 2954s 56s/step - loss: 0.6259 - binary_crossentropy: 0.6259 - accuracy: 0.8077 - val_loss: 0.3479 - val_binary_crossentropy: 0.3479 - val_accuracy: 0.8590\n",
      "Epoch 2/10\n",
      "53/53 [==============================] - 2943s 56s/step - loss: 0.2116 - binary_crossentropy: 0.2116 - accuracy: 0.9122 - val_loss: 0.4187 - val_binary_crossentropy: 0.4187 - val_accuracy: 0.8109\n",
      "Epoch 3/10\n",
      "53/53 [==============================] - 2983s 56s/step - loss: 0.1887 - binary_crossentropy: 0.1887 - accuracy: 0.9252 - val_loss: 0.5316 - val_binary_crossentropy: 0.5316 - val_accuracy: 0.7997\n",
      "Epoch 4/10\n",
      "53/53 [==============================] - 2946s 56s/step - loss: 0.1677 - binary_crossentropy: 0.1677 - accuracy: 0.9313 - val_loss: 0.2807 - val_binary_crossentropy: 0.2807 - val_accuracy: 0.8814\n",
      "Epoch 5/10\n",
      "53/53 [==============================] - 2946s 56s/step - loss: 0.1570 - binary_crossentropy: 0.1570 - accuracy: 0.9349 - val_loss: 0.2408 - val_binary_crossentropy: 0.2408 - val_accuracy: 0.9151\n",
      "Epoch 6/10\n",
      "53/53 [==============================] - 2947s 56s/step - loss: 0.1390 - binary_crossentropy: 0.1390 - accuracy: 0.9447 - val_loss: 0.4957 - val_binary_crossentropy: 0.4957 - val_accuracy: 0.8349\n",
      "Epoch 7/10\n",
      "53/53 [==============================] - 2950s 56s/step - loss: 0.1268 - binary_crossentropy: 0.1268 - accuracy: 0.9522 - val_loss: 0.5565 - val_binary_crossentropy: 0.5565 - val_accuracy: 0.8221\n",
      "Epoch 8/10\n",
      "53/53 [==============================] - 2947s 56s/step - loss: 0.1172 - binary_crossentropy: 0.1172 - accuracy: 0.9554 - val_loss: 0.2335 - val_binary_crossentropy: 0.2335 - val_accuracy: 0.9183\n",
      "Epoch 9/10\n",
      "53/53 [==============================] - 2951s 56s/step - loss: 0.1186 - binary_crossentropy: 0.1186 - accuracy: 0.9541 - val_loss: 0.3086 - val_binary_crossentropy: 0.3086 - val_accuracy: 0.9087\n",
      "Epoch 10/10\n",
      "53/53 [==============================] - 2949s 56s/step - loss: 0.1229 - binary_crossentropy: 0.1229 - accuracy: 0.9520 - val_loss: 0.3998 - val_binary_crossentropy: 0.3998 - val_accuracy: 0.8862\n",
      "Test loss: 0.3997814655303955\n",
      "Test accuracy: 0.8862179517745972\n"
     ]
    }
   ],
   "source": [
    "print(\"START COMPILING\")\n",
    "model.compile(loss=tf.keras.losses.binary_crossentropy, optimizer=tf.keras.optimizers.RMSprop(), metrics=[tf.keras.metrics.binary_crossentropy,'accuracy'])\n",
    "print(\"START FITTING\")\n",
    "history = model.fit(train_generator, epochs = 10, validation_data = test_generator)\n",
    "score = model.evaluate(test_generator, verbose = 0)\n",
    "print('Test loss:', score[0])\n",
    "print('Test accuracy:', score[2])"
   ]
  },
  {
   "cell_type": "code",
   "execution_count": null,
   "metadata": {
    "id": "x_4Q_EQ96o-i"
   },
   "outputs": [],
   "source": [
    "path_load = '/content/drive/My Drive/Colab Notebooks/Pneumonia_ML/chest_x_ray/model1'\n",
    "with open(path_load + '/accuracy.txt', 'w') as fh_va:\n",
    "  accuracy_result = [str(i) + '\\n' for i in history.history['val_accuracy']]\n",
    "  fh_va.writelines(accuracy_result)\n",
    "with open(path_load + '/train_accuracy.txt', 'w') as fh_a:\n",
    "  trainaccuracy_result = [str(i) + '\\n' for i in history.history['accuracy']]\n",
    "  fh_a.writelines(trainaccuracy_result)\n",
    "with open(path_load + '/loss.txt', 'w') as fh_vl:\n",
    "  loss_result = [str(i) + '\\n' for i in history.history['val_loss']]\n",
    "  fh_vl.writelines(loss_result)\n",
    "with open(path_load + '/train_loss.txt', 'w') as fh_l:\n",
    "  trainloss_result = [str(i) + '\\n' for i in history.history['loss']]\n",
    "  fh_l.writelines(trainloss_result)"
   ]
  },
  {
   "cell_type": "code",
   "execution_count": null,
   "metadata": {
    "id": "bfit4zCQ6rzp"
   },
   "outputs": [],
   "source": [
    "path_load = '/content/drive/My Drive/Colab Notebooks/Pneumonia_ML/chest_x_ray/model1'\n",
    "fh_va = open(path_load + '/accuracy.txt', 'r')\n",
    "accuracy = fh_va.readlines()\n",
    "accuracy = [float(i) for i in accuracy]\n",
    "fh_a = open(path_load + '/train_accuracy.txt', 'r')\n",
    "train_accuracy = fh_a.readlines()\n",
    "train_accuracy = [float(i) for i in train_accuracy]\n",
    "fh_vl = open(path_load + '/loss.txt', 'r')\n",
    "loss = fh_vl.readlines()\n",
    "loss = [float(i) for i in loss]\n",
    "fh_l = open(path_load + '/train_loss.txt', 'r')\n",
    "train_loss = fh_l.readlines()\n",
    "train_loss = [float(i) for i in train_loss]"
   ]
  },
  {
   "cell_type": "code",
   "execution_count": null,
   "metadata": {
    "colab": {
     "base_uri": "https://localhost:8080/",
     "height": 325
    },
    "id": "vApnlX8mcbi1",
    "outputId": "30ca1517-f696-4b02-e0ba-98898059a8ce"
   },
   "outputs": [
    {
     "data": {
      "text/plain": [
       "(0.5, 1.0)"
      ]
     },
     "execution_count": 12,
     "metadata": {
      "tags": []
     },
     "output_type": "execute_result"
    },
    {
     "data": {
      "image/png": "[encoded data removed]",
      "text/plain": [
       "<Figure size 432x288 with 1 Axes>"
      ]
     },
     "metadata": {
      "needs_background": "light",
      "tags": []
     },
     "output_type": "display_data"
    }
   ],
   "source": [
    "plt.plot(accuracy, 'o', label = 'test')\n",
    "plt.plot(train_accuracy, 'o', label = 'train')\n",
    "plt.title('Model Accuracy', fontsize = 20)\n",
    "plt.ylabel('Accuracy', fontsize = 15)\n",
    "plt.xlabel('Epoch', fontsize = 15)\n",
    "plt.legend(loc='lower right', fontsize = 13)\n",
    "plt.xticks(fontsize = 13)\n",
    "plt.yticks(fontsize = 13)\n",
    "plt.ylim(0.5, 1)"
   ]
  },
  {
   "cell_type": "code",
   "execution_count": null,
   "metadata": {
    "colab": {
     "base_uri": "https://localhost:8080/",
     "height": 325
    },
    "id": "9L5TgKavfw5p",
    "outputId": "2141a2c6-8871-47b4-cc74-3d856ff0d4b0"
   },
   "outputs": [
    {
     "data": {
      "text/plain": [
       "(0.0, 1.0)"
      ]
     },
     "execution_count": 13,
     "metadata": {
      "tags": []
     },
     "output_type": "execute_result"
    },
    {
     "data": {
      "image/png": "[encoded data removed]",
      "text/plain": [
       "<Figure size 432x288 with 1 Axes>"
      ]
     },
     "metadata": {
      "needs_background": "light",
      "tags": []
     },
     "output_type": "display_data"
    }
   ],
   "source": [
    "plt.plot(loss, 'o', label = 'test')\n",
    "plt.plot(train_loss, 'o', label = 'train')\n",
    "plt.title('Model Loss', fontsize = 20)\n",
    "plt.ylabel('Loss', fontsize = 15)\n",
    "plt.xlabel('Epoch', fontsize = 15)\n",
    "plt.legend(loc='upper right', fontsize = 13)\n",
    "plt.xticks(fontsize = 13)\n",
    "plt.yticks(fontsize = 13)\n",
    "plt.ylim(0, 1)"
   ]
  }
 ],
 "metadata": {
  "colab": {
   "name": "NeuralNetwork_Model1.ipynb",
   "provenance": []
  },
  "kernelspec": {
   "display_name": "Python 3",
   "language": "python",
   "name": "python3"
  },
  "language_info": {
   "codemirror_mode": {
    "name": "ipython",
    "version": 3
   },
   "file_extension": ".py",
   "mimetype": "text/x-python",
   "name": "python",
   "nbconvert_exporter": "python",
   "pygments_lexer": "ipython3",
   "version": "3.8.3"
  }
 },
 "nbformat": 4,
 "nbformat_minor": 1
}
