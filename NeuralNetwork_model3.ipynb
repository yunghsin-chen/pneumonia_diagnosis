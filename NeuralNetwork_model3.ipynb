{
  "nbformat": 4,
  "nbformat_minor": 0,
  "metadata": {
    "colab": {
      "name": "NeuralNetwork_model3.ipynb",
      "provenance": [],
      "collapsed_sections": []
    },
    "kernelspec": {
      "name": "python3",
      "display_name": "Python 3"
    }
  },
  "cells": [
    {
      "cell_type": "code",
      "metadata": {
        "id": "tkUFx54Q_qaa",
        "colab": {
          "base_uri": "https://localhost:8080/",
          "height": 122
        },
        "outputId": "44ddedac-1193-4e5c-951c-97dd512b6bce"
      },
      "source": [
        "#!/usr/bin/env python\n",
        "# coding: utf-8\n",
        "\n",
        "# ==================================================================== #\n",
        "# author: Yung-Hsin Chen                                               #\n",
        "# copyright: Copyright 2020, Pneumonia Diagnosis                       #                                                            \n",
        "# ==================================================================== #\n",
        "\n",
        "from google.colab import drive\n",
        "drive.mount('/content/drive')"
      ],
      "execution_count": null,
      "outputs": [
        {
          "output_type": "stream",
          "text": [
            "Go to this URL in a browser: https://accounts.google.com/o/oauth2/auth?client_id=947318989803-6bn6qk8qdgf4n4g3pfee6491hc0brc4i.apps.googleusercontent.com&redirect_uri=urn%3aietf%3awg%3aoauth%3a2.0%3aoob&response_type=code&scope=email%20https%3a%2f%2fwww.googleapis.com%2fauth%2fdocs.test%20https%3a%2f%2fwww.googleapis.com%2fauth%2fdrive%20https%3a%2f%2fwww.googleapis.com%2fauth%2fdrive.photos.readonly%20https%3a%2f%2fwww.googleapis.com%2fauth%2fpeopleapi.readonly\n",
            "\n",
            "Enter your authorization code:\n",
            "··········\n",
            "Mounted at /content/drive\n"
          ],
          "name": "stdout"
        }
      ]
    },
    {
      "cell_type": "code",
      "metadata": {
        "id": "NFyCJ6AD_vQN",
        "colab": {
          "base_uri": "https://localhost:8080/",
          "height": 34
        },
        "outputId": "114e6a87-6645-49a8-a479-b2b918137719"
      },
      "source": [
        "import os\n",
        "import tensorflow as tf\n",
        "import numpy as np\n",
        "import pandas as pd\n",
        "import matplotlib.pyplot as plt\n",
        "from keras.applications import VGG16\n",
        "from keras import layers, models\n",
        "import json\n",
        "import pandas as pd\n",
        "os.environ['KMP_DUPLICATE_LIB_OK']='True' # for MAC"
      ],
      "execution_count": null,
      "outputs": [
        {
          "output_type": "stream",
          "text": [
            "Using TensorFlow backend.\n"
          ],
          "name": "stderr"
        }
      ]
    },
    {
      "cell_type": "markdown",
      "metadata": {
        "id": "-Vor_X7EEh52"
      },
      "source": [
        "### $\\underline{Loading\\;and\\;Storing\\;Data}$\n",
        "##### - Classes: pneumonia, normal\n",
        "##### - Train (228x228x100), Validation (228x228x16), Test (228x228x5)"
      ]
    },
    {
      "cell_type": "code",
      "metadata": {
        "id": "9L10pbL4_xcD",
        "colab": {
          "base_uri": "https://localhost:8080/",
          "height": 68
        },
        "outputId": "f01d4ec2-4db5-4008-f3fe-993903a0db67"
      },
      "source": [
        "imgX = imgY = 224\n",
        "train_datagen = tf.keras.preprocessing.image.ImageDataGenerator(\n",
        "    rescale=1./255,\n",
        "    width_shift_range=0.05,\n",
        "    height_shift_range=0.15,\n",
        "    rotation_range=10,\n",
        "    zoom_range=0.1,\n",
        ")\n",
        "val_datagen = tf.keras.preprocessing.image.ImageDataGenerator(rescale=1./255)\n",
        "test_datagen = tf.keras.preprocessing.image.ImageDataGenerator(rescale=1./255)\n",
        "path = '/content/drive/My Drive/Colab Notebooks/Pneumonia_ML/chest_x_ray'\n",
        "train_generator = train_datagen.flow_from_directory(\n",
        "    path + '/data/train',\n",
        "    target_size = (imgX, imgY),\n",
        "    batch_size = 100,#5216\n",
        "    class_mode = \"binary\",\n",
        "    shuffle = True\n",
        ")\n",
        "validation_generator = val_datagen.flow_from_directory(\n",
        "    path +'/data/val',\n",
        "    target_size = (imgX, imgY),\n",
        "    batch_size = 16,\n",
        "    class_mode = \"binary\",\n",
        "    shuffle = False\n",
        ")\n",
        "test_generator = test_datagen.flow_from_directory(\n",
        "    path +'/data/test',\n",
        "    target_size = (imgX, imgY),\n",
        "    batch_size = 5,#624\n",
        "    class_mode = \"binary\",\n",
        "    shuffle = False\n",
        ")"
      ],
      "execution_count": null,
      "outputs": [
        {
          "output_type": "stream",
          "text": [
            "Found 5226 images belonging to 2 classes.\n",
            "Found 16 images belonging to 2 classes.\n",
            "Found 624 images belonging to 2 classes.\n"
          ],
          "name": "stdout"
        }
      ]
    },
    {
      "cell_type": "markdown",
      "metadata": {
        "id": "W0ZTkBsVEqz2"
      },
      "source": [
        "### $\\underline{Neural\\;Network\\;Layers}$\n",
        "##### - Pretrain: VGG16 (freeze)\n",
        "##### - Dense (Sigmoid) (smaller model)\n",
        "##### - Dropout (0.5)\n",
        "##### - Dense (Sigmoid)"
      ]
    },
    {
      "cell_type": "code",
      "metadata": {
        "id": "tPPgTsgU_zb2"
      },
      "source": [
        "model = tf.keras.Sequential()\n",
        "# pretrain\n",
        "pretrain = tf.keras.applications.vgg16.VGG16(weights = 'imagenet', include_top = False, input_tensor = tf.keras.layers.Input(shape=(imgX, imgY, 3)))\n",
        "pretrain.trainable = False\n",
        "model.add(pretrain)\n",
        "# convnet\n",
        "'''\n",
        "print(\"1\")\n",
        "model.add(tf.keras.layers.Conv2D(32, (3, 3), activation='sigmoid', padding = 'same')) \n",
        "print(\"2\")\n",
        "model.add(tf.keras.layers.MaxPooling2D((2, 2)))\n",
        "print(\"3\")\n",
        "model.add(tf.keras.layers.Conv2D(64, (3, 3), activation='sigmoid', padding = 'same')) \n",
        "print(\"4\")\n",
        "model.add(tf.keras.layers.MaxPooling2D((2, 2)))\n",
        "print(\"5\")\n",
        "model.add(tf.keras.layers.Conv2D(64, (3, 3), activation='sigmoid', padding = 'same'))\n",
        "'''\n",
        "# dropout - prevent overtraining\n",
        "# lowering the capacity\n",
        "# print(\"flatten ok\")\n",
        "model.add(tf.keras.layers.Flatten())\n",
        "# print(\"dense1 ok\")\n",
        "model.add(tf.keras.layers.Dense(16, activation='sigmoid'))\n",
        "# print(\"dropout1 ok\") \n",
        "model.add(tf.keras.layers.Dropout(0.5))\n",
        "# print(\"dense2 ok\")\n",
        "# model.add(tf.keras.layers.Dense(32, activation='sigmoid')) \n",
        "# print(\"dropout2 ok\") \n",
        "# model.add(tf.keras.layers.Dropout(0.5))\n",
        "# print(\"softmax ok\")\n",
        "model.add(tf.keras.layers.Dense(1, activation='sigmoid'))"
      ],
      "execution_count": null,
      "outputs": []
    },
    {
      "cell_type": "code",
      "metadata": {
        "id": "HS3Qec_F_13Y",
        "colab": {
          "base_uri": "https://localhost:8080/",
          "height": 323
        },
        "outputId": "4e2ddca5-d703-4aaf-ee11-c91e0c5103c9"
      },
      "source": [
        "model.summary()"
      ],
      "execution_count": null,
      "outputs": [
        {
          "output_type": "stream",
          "text": [
            "Model: \"sequential\"\n",
            "_________________________________________________________________\n",
            "Layer (type)                 Output Shape              Param #   \n",
            "=================================================================\n",
            "vgg16 (Model)                (None, 7, 7, 512)         14714688  \n",
            "_________________________________________________________________\n",
            "flatten (Flatten)            (None, 25088)             0         \n",
            "_________________________________________________________________\n",
            "dense (Dense)                (None, 16)                401424    \n",
            "_________________________________________________________________\n",
            "dropout (Dropout)            (None, 16)                0         \n",
            "_________________________________________________________________\n",
            "dense_1 (Dense)              (None, 1)                 17        \n",
            "=================================================================\n",
            "Total params: 15,116,129\n",
            "Trainable params: 401,441\n",
            "Non-trainable params: 14,714,688\n",
            "_________________________________________________________________\n"
          ],
          "name": "stdout"
        }
      ]
    },
    {
      "cell_type": "markdown",
      "metadata": {
        "id": "jexvWGXvE3R3"
      },
      "source": [
        "### $\\underline{Training}$"
      ]
    },
    {
      "cell_type": "code",
      "metadata": {
        "id": "tTbUnNPo_3eh",
        "colab": {
          "base_uri": "https://localhost:8080/",
          "height": 445
        },
        "outputId": "e61497f9-435e-4874-efe8-bd7bec3dad40"
      },
      "source": [
        "print(\"START COMPILING\")\n",
        "model.compile(loss=tf.keras.losses.binary_crossentropy, optimizer=tf.keras.optimizers.RMSprop(), metrics=[tf.keras.metrics.binary_crossentropy,'accuracy'])\n",
        "print(\"START FITTING\")\n",
        "history = model.fit(train_generator, epochs = 10, validation_data = test_generator)\n",
        "score = model.evaluate(test_generator, verbose = 0)\n",
        "print('Test loss:', score[0])\n",
        "print('Test accuracy:', score[2])"
      ],
      "execution_count": null,
      "outputs": [
        {
          "output_type": "stream",
          "text": [
            "START COMPILING\n",
            "START FITTING\n",
            "Epoch 1/10\n",
            "53/53 [==============================] - 3060s 58s/step - loss: 0.6820 - binary_crossentropy: 0.6820 - accuracy: 0.7290 - val_loss: 0.7995 - val_binary_crossentropy: 0.7995 - val_accuracy: 0.6250\n",
            "Epoch 2/10\n",
            "53/53 [==============================] - 3011s 57s/step - loss: 0.5023 - binary_crossentropy: 0.5023 - accuracy: 0.7830 - val_loss: 0.3996 - val_binary_crossentropy: 0.3996 - val_accuracy: 0.8638\n",
            "Epoch 3/10\n",
            "53/53 [==============================] - 3015s 57s/step - loss: 0.3176 - binary_crossentropy: 0.3176 - accuracy: 0.8951 - val_loss: 0.4227 - val_binary_crossentropy: 0.4227 - val_accuracy: 0.8109\n",
            "Epoch 4/10\n",
            "53/53 [==============================] - 3081s 58s/step - loss: 0.2665 - binary_crossentropy: 0.2665 - accuracy: 0.9271 - val_loss: 0.2888 - val_binary_crossentropy: 0.2888 - val_accuracy: 0.8846\n",
            "Epoch 5/10\n",
            "53/53 [==============================] - 3062s 58s/step - loss: 0.2267 - binary_crossentropy: 0.2267 - accuracy: 0.9397 - val_loss: 0.4136 - val_binary_crossentropy: 0.4136 - val_accuracy: 0.8365\n",
            "Epoch 6/10\n",
            "53/53 [==============================] - 3090s 58s/step - loss: 0.2049 - binary_crossentropy: 0.2049 - accuracy: 0.9464 - val_loss: 0.2841 - val_binary_crossentropy: 0.2841 - val_accuracy: 0.8910\n",
            "Epoch 7/10\n",
            "53/53 [==============================] - 3052s 58s/step - loss: 0.1900 - binary_crossentropy: 0.1900 - accuracy: 0.9508 - val_loss: 0.4046 - val_binary_crossentropy: 0.4046 - val_accuracy: 0.8397\n",
            "Epoch 8/10\n",
            "53/53 [==============================] - 3047s 57s/step - loss: 0.1694 - binary_crossentropy: 0.1694 - accuracy: 0.9501 - val_loss: 0.2417 - val_binary_crossentropy: 0.2417 - val_accuracy: 0.9199\n",
            "Epoch 9/10\n",
            "53/53 [==============================] - 3047s 57s/step - loss: 0.1686 - binary_crossentropy: 0.1686 - accuracy: 0.9499 - val_loss: 0.2653 - val_binary_crossentropy: 0.2653 - val_accuracy: 0.9054\n",
            "Epoch 10/10\n",
            "53/53 [==============================] - 3027s 57s/step - loss: 0.1579 - binary_crossentropy: 0.1579 - accuracy: 0.9539 - val_loss: 0.2776 - val_binary_crossentropy: 0.2776 - val_accuracy: 0.8990\n",
            "Test loss: 0.27764707803726196\n",
            "Test accuracy: 0.8990384340286255\n"
          ],
          "name": "stdout"
        }
      ]
    },
    {
      "cell_type": "code",
      "metadata": {
        "id": "t9YDbkfdfa67"
      },
      "source": [
        "path_load = '/content/drive/My Drive/Colab Notebooks/Pneumonia_ML/chest_x_ray/model1'\n",
        "with open(path_load + '/accuracy.txt', 'w') as fh_va:\n",
        "  accuracy_result = [str(i) + '\\n' for i in history.history['val_accuracy']]\n",
        "  fh_va.writelines(accuracy_result)\n",
        "with open(path_load + '/train_accuracy.txt', 'w') as fh_a:\n",
        "  trainaccuracy_result = [str(i) + '\\n' for i in history.history['accuracy']]\n",
        "  fh_a.writelines(trainaccuracy_result)\n",
        "with open(path_load + '/loss.txt', 'w') as fh_vl:\n",
        "  loss_result = [str(i) + '\\n' for i in history.history['val_loss']]\n",
        "  fh_vl.writelines(loss_result)\n",
        "with open(path_load + '/train_loss.txt', 'w') as fh_l:\n",
        "  trainloss_result = [str(i) + '\\n' for i in history.history['loss']]\n",
        "  fh_l.writelines(trainloss_result)"
      ],
      "execution_count": null,
      "outputs": []
    },
    {
      "cell_type": "code",
      "metadata": {
        "id": "jNAnTymiff3-"
      },
      "source": [
        "path_load = '/content/drive/My Drive/Colab Notebooks/Pneumonia_ML/chest_x_ray/model3'\n",
        "fh_va = open(path_load + '/accuracy.txt', 'r')\n",
        "accuracy = fh_va.readlines()\n",
        "accuracy = [float(i) for i in accuracy]\n",
        "fh_a = open(path_load + '/train_accuracy.txt', 'r')\n",
        "train_accuracy = fh_a.readlines()\n",
        "train_accuracy = [float(i) for i in train_accuracy]\n",
        "fh_vl = open(path_load + '/loss.txt', 'r')\n",
        "loss = fh_vl.readlines()\n",
        "loss = [float(i) for i in loss]\n",
        "fh_l = open(path_load + '/train_loss.txt', 'r')\n",
        "train_loss = fh_l.readlines()\n",
        "train_loss = [float(i) for i in train_loss]"
      ],
      "execution_count": null,
      "outputs": []
    },
    {
      "cell_type": "code",
      "metadata": {
        "id": "C0NpYCkLfiVZ",
        "colab": {
          "base_uri": "https://localhost:8080/",
          "height": 325
        },
        "outputId": "bc344e9d-06d4-4337-f01a-14c96afa8fa6"
      },
      "source": [
        "plt.plot(accuracy, 'o', label = 'test')\n",
        "plt.plot(train_accuracy, 'o', label = 'train')\n",
        "plt.title('Model Accuracy', fontsize = 20)\n",
        "plt.ylabel('Accuracy', fontsize = 15)\n",
        "plt.xlabel('Epoch', fontsize = 15)\n",
        "plt.legend(loc='lower right', fontsize = 13)\n",
        "plt.xticks(fontsize = 13)\n",
        "plt.yticks(fontsize = 13)\n",
        "plt.ylim(0.5, 1)"
      ],
      "execution_count": null,
      "outputs": [
        {
          "output_type": "execute_result",
          "data": {
            "text/plain": [
              "(0.5, 1.0)"
            ]
          },
          "metadata": {
            "tags": []
          },
          "execution_count": 7
        },
        {
          "output_type": "display_data",
          "data": {
            "image/png": "[encoded data removed]",
            "text/plain": [
              "<Figure size 432x288 with 1 Axes>"
            ]
          },
          "metadata": {
            "tags": [],
            "needs_background": "light"
          }
        }
      ]
    },
    {
      "cell_type": "code",
      "metadata": {
        "id": "1BHfOD4Gf_9r",
        "colab": {
          "base_uri": "https://localhost:8080/",
          "height": 325
        },
        "outputId": "478436d1-8414-4d70-ca9f-673d2f399894"
      },
      "source": [
        "plt.plot(loss, 'o', label = 'test')\n",
        "plt.plot(train_loss, 'o', label = 'train')\n",
        "plt.title('Model Loss', fontsize = 20)\n",
        "plt.ylabel('Loss', fontsize = 15)\n",
        "plt.xlabel('Epoch', fontsize = 15)\n",
        "plt.legend(loc='upper right', fontsize = 13)\n",
        "plt.xticks(fontsize = 13)\n",
        "plt.yticks(fontsize = 13)\n",
        "plt.ylim(0, 1)"
      ],
      "execution_count": null,
      "outputs": [
        {
          "output_type": "execute_result",
          "data": {
            "text/plain": [
              "(0.0, 1.0)"
            ]
          },
          "metadata": {
            "tags": []
          },
          "execution_count": 9
        },
        {
          "output_type": "display_data",
          "data": {
            "image/png": "[encoded data removed]",
            "text/plain": [
              "<Figure size 432x288 with 1 Axes>"
            ]
          },
          "metadata": {
            "tags": [],
            "needs_background": "light"
          }
        }
      ]
    }
  ]
}