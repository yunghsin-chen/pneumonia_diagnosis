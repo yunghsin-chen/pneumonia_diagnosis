{
  "nbformat": 4,
  "nbformat_minor": 0,
  "metadata": {
    "colab": {
      "name": "NeuralNetwork_FinalReport3-2.ipynb 的副本",
      "provenance": [],
      "collapsed_sections": []
    },
    "kernelspec": {
      "name": "python3",
      "display_name": "Python 3"
    },
    "accelerator": "GPU"
  },
  "cells": [
    {
      "cell_type": "code",
      "metadata": {
        "id": "tkUFx54Q_qaa",
        "colab": {
          "base_uri": "https://localhost:8080/",
          "height": 34
        },
        "outputId": "b81b758f-df6f-41ed-bfcd-2d52a1059be4"
      },
      "source": [
        "#!/usr/bin/env python\n",
        "# coding: utf-8\n",
        "\n",
        "# ==================================================================== #\n",
        "# author: Yung-Hsin Chen                                               #\n",
        "# copyright: Copyright 2020, Pneumonia Diagnosis                       #                                                            \n",
        "# ==================================================================== #\n",
        "\n",
        "from google.colab import drive\n",
        "drive.mount('/content/drive')   "
      ],
      "execution_count": null,
      "outputs": [
        {
          "output_type": "stream",
          "text": [
            "Drive already mounted at /content/drive; to attempt to forcibly remount, call drive.mount(\"/content/drive\", force_remount=True).\n"
          ],
          "name": "stdout"
        }
      ]
    },
    {
      "cell_type": "code",
      "metadata": {
        "id": "NFyCJ6AD_vQN"
      },
      "source": [
        "import os\n",
        "import tensorflow as tf\n",
        "import numpy as np\n",
        "import pandas as pd\n",
        "import matplotlib.pyplot as plt\n",
        "from keras.applications import VGG16\n",
        "from keras import layers, models\n",
        "import json\n",
        "import pandas as pd\n",
        "os.environ['KMP_DUPLICATE_LIB_OK']='True' # for MAC"
      ],
      "execution_count": null,
      "outputs": []
    },
    {
      "cell_type": "markdown",
      "metadata": {
        "id": "-Vor_X7EEh52"
      },
      "source": [
        "### $\\underline{Loading\\;and\\;Storing\\;Data}$\n",
        "##### - Classes: pneumonia, normal\n",
        "##### - Train (228x228x100), Validation (228x228x16), Test (228x228x5)"
      ]
    },
    {
      "cell_type": "code",
      "metadata": {
        "id": "9L10pbL4_xcD",
        "colab": {
          "base_uri": "https://localhost:8080/",
          "height": 68
        },
        "outputId": "ad4bf953-20f5-44f3-f833-52bbe91560e7"
      },
      "source": [
        "imgX = imgY = 224\n",
        "train_datagen = tf.keras.preprocessing.image.ImageDataGenerator(\n",
        "    rescale=1./255,\n",
        "    width_shift_range=0.05,\n",
        "    height_shift_range=0.15,\n",
        "    rotation_range=10,\n",
        "    zoom_range=0.1,\n",
        ")\n",
        "val_datagen = tf.keras.preprocessing.image.ImageDataGenerator(rescale=1./255)\n",
        "test_datagen = tf.keras.preprocessing.image.ImageDataGenerator(rescale=1./255)\n",
        "path = '/content/drive/My Drive/Colab Notebooks/Pneumonia_ML/chest_x_ray'\n",
        "train_generator = train_datagen.flow_from_directory(\n",
        "    path + '/data/train',\n",
        "    target_size = (imgX, imgY),\n",
        "    batch_size = 100,#5216\n",
        "    class_mode = \"binary\",\n",
        "    shuffle = True\n",
        ")\n",
        "validation_generator = val_datagen.flow_from_directory(\n",
        "    path +'/data/val',\n",
        "    target_size = (imgX, imgY),\n",
        "    batch_size = 16,\n",
        "    class_mode = \"binary\",\n",
        "    shuffle = False\n",
        ")\n",
        "test_generator = test_datagen.flow_from_directory(\n",
        "    path +'/data/test',\n",
        "    target_size = (imgX, imgY),\n",
        "    batch_size = 50,#624\n",
        "    class_mode = \"binary\",\n",
        "    shuffle = False\n",
        ")"
      ],
      "execution_count": null,
      "outputs": [
        {
          "output_type": "stream",
          "text": [
            "Found 5226 images belonging to 2 classes.\n",
            "Found 16 images belonging to 2 classes.\n",
            "Found 624 images belonging to 2 classes.\n"
          ],
          "name": "stdout"
        }
      ]
    },
    {
      "cell_type": "markdown",
      "metadata": {
        "id": "W0ZTkBsVEqz2"
      },
      "source": [
        "### $\\underline{Neural\\;Network\\;Layers}$\n",
        "##### - Pretrain: VGG16 (freeze)\n",
        "##### - Dense (Sigmoid) (smaller model)\n",
        "##### - Dropout (0.5)\n",
        "##### - Dense (Sigmoid)"
      ]
    },
    {
      "cell_type": "code",
      "metadata": {
        "id": "tPPgTsgU_zb2"
      },
      "source": [
        "model = tf.keras.Sequential()\n",
        "# pretrain\n",
        "pretrain = tf.keras.applications.vgg16.VGG16(weights = 'imagenet', include_top = False, input_tensor = tf.keras.layers.Input(shape=(imgX, imgY, 3)))\n",
        "pretrain.trainable = False\n",
        "model.add(pretrain)\n",
        "# convnet\n",
        "'''\n",
        "print(\"1\")\n",
        "model.add(tf.keras.layers.Conv2D(32, (3, 3), activation='sigmoid', padding = 'same')) \n",
        "print(\"2\")\n",
        "model.add(tf.keras.layers.MaxPooling2D((2, 2)))\n",
        "print(\"3\")\n",
        "model.add(tf.keras.layers.Conv2D(64, (3, 3), activation='sigmoid', padding = 'same')) \n",
        "print(\"4\")\n",
        "model.add(tf.keras.layers.MaxPooling2D((2, 2)))\n",
        "print(\"5\")\n",
        "model.add(tf.keras.layers.Conv2D(64, (3, 3), activation='sigmoid', padding = 'same'))\n",
        "'''\n",
        "# dropout - prevent overtraining\n",
        "# lowering the capacity\n",
        "# print(\"flatten ok\")\n",
        "model.add(tf.keras.layers.Flatten())\n",
        "# print(\"dense1 ok\")\n",
        "model.add(tf.keras.layers.Dense(4, activation='sigmoid'))\n",
        "# print(\"dropout1 ok\") \n",
        "model.add(tf.keras.layers.Dropout(0.5))\n",
        "# print(\"dense2 ok\")\n",
        "# model.add(tf.keras.layers.Dense(32, activation='sigmoid')) \n",
        "# print(\"dropout2 ok\") \n",
        "# model.add(tf.keras.layers.Dropout(0.5))\n",
        "# print(\"softmax ok\")\n",
        "model.add(tf.keras.layers.Dense(1, activation='sigmoid'))"
      ],
      "execution_count": null,
      "outputs": []
    },
    {
      "cell_type": "code",
      "metadata": {
        "id": "HS3Qec_F_13Y",
        "colab": {
          "base_uri": "https://localhost:8080/",
          "height": 323
        },
        "outputId": "47688fde-a0cd-4072-fdf8-e89dab180e86"
      },
      "source": [
        "model.summary()"
      ],
      "execution_count": null,
      "outputs": [
        {
          "output_type": "stream",
          "text": [
            "Model: \"sequential\"\n",
            "_________________________________________________________________\n",
            "Layer (type)                 Output Shape              Param #   \n",
            "=================================================================\n",
            "vgg16 (Model)                (None, 7, 7, 512)         14714688  \n",
            "_________________________________________________________________\n",
            "flatten (Flatten)            (None, 25088)             0         \n",
            "_________________________________________________________________\n",
            "dense (Dense)                (None, 4)                 100356    \n",
            "_________________________________________________________________\n",
            "dropout (Dropout)            (None, 4)                 0         \n",
            "_________________________________________________________________\n",
            "dense_1 (Dense)              (None, 1)                 5         \n",
            "=================================================================\n",
            "Total params: 14,815,049\n",
            "Trainable params: 100,361\n",
            "Non-trainable params: 14,714,688\n",
            "_________________________________________________________________\n"
          ],
          "name": "stdout"
        }
      ]
    },
    {
      "cell_type": "markdown",
      "metadata": {
        "id": "jexvWGXvE3R3"
      },
      "source": [
        "### $\\underline{Training}$"
      ]
    },
    {
      "cell_type": "code",
      "metadata": {
        "id": "tTbUnNPo_3eh",
        "colab": {
          "base_uri": "https://localhost:8080/",
          "height": 615
        },
        "outputId": "13ddb0c6-25f5-46a4-cfae-66b8767896fb"
      },
      "source": [
        "print(\"START COMPILING\")\n",
        "model.compile(loss=tf.keras.losses.binary_crossentropy, optimizer=tf.keras.optimizers.RMSprop(), metrics=[tf.keras.metrics.binary_crossentropy,'accuracy'])\n",
        "print(\"START FITTING\")\n",
        "history = model.fit(train_generator, epochs = 15, validation_data = test_generator)\n",
        "# history = model.fit(train_generator, validation_data = test_generator, epochs = 15, batch_size = 4)\n",
        "score = model.evaluate(test_generator, verbose = 0)\n",
        "print('Test loss:', score[0])\n",
        "print('Test accuracy:', score[2])"
      ],
      "execution_count": null,
      "outputs": [
        {
          "output_type": "stream",
          "text": [
            "START COMPILING\n",
            "START FITTING\n",
            "Epoch 1/15\n",
            "53/53 [==============================] - 154s 3s/step - loss: 0.5009 - binary_crossentropy: 0.5009 - accuracy: 0.8077 - val_loss: 0.4850 - val_binary_crossentropy: 0.4850 - val_accuracy: 0.8638\n",
            "Epoch 2/15\n",
            "53/53 [==============================] - 146s 3s/step - loss: 0.4365 - binary_crossentropy: 0.4365 - accuracy: 0.8676 - val_loss: 0.4550 - val_binary_crossentropy: 0.4550 - val_accuracy: 0.8606\n",
            "Epoch 3/15\n",
            "53/53 [==============================] - 147s 3s/step - loss: 0.4058 - binary_crossentropy: 0.4058 - accuracy: 0.8879 - val_loss: 0.4672 - val_binary_crossentropy: 0.4672 - val_accuracy: 0.7933\n",
            "Epoch 4/15\n",
            "53/53 [==============================] - 144s 3s/step - loss: 0.3753 - binary_crossentropy: 0.3753 - accuracy: 0.8978 - val_loss: 0.4091 - val_binary_crossentropy: 0.4091 - val_accuracy: 0.8958\n",
            "Epoch 5/15\n",
            "53/53 [==============================] - 143s 3s/step - loss: 0.3660 - binary_crossentropy: 0.3660 - accuracy: 0.8959 - val_loss: 0.4052 - val_binary_crossentropy: 0.4052 - val_accuracy: 0.8766\n",
            "Epoch 6/15\n",
            "53/53 [==============================] - 147s 3s/step - loss: 0.3476 - binary_crossentropy: 0.3476 - accuracy: 0.9007 - val_loss: 0.4085 - val_binary_crossentropy: 0.4085 - val_accuracy: 0.8766\n",
            "Epoch 7/15\n",
            "53/53 [==============================] - 148s 3s/step - loss: 0.3299 - binary_crossentropy: 0.3299 - accuracy: 0.9028 - val_loss: 0.3565 - val_binary_crossentropy: 0.3565 - val_accuracy: 0.9199\n",
            "Epoch 8/15\n",
            "53/53 [==============================] - 147s 3s/step - loss: 0.3177 - binary_crossentropy: 0.3177 - accuracy: 0.9051 - val_loss: 0.4044 - val_binary_crossentropy: 0.4044 - val_accuracy: 0.8718\n",
            "Epoch 9/15\n",
            "53/53 [==============================] - 147s 3s/step - loss: 0.3136 - binary_crossentropy: 0.3136 - accuracy: 0.9074 - val_loss: 0.3678 - val_binary_crossentropy: 0.3678 - val_accuracy: 0.8974\n",
            "Epoch 10/15\n",
            "53/53 [==============================] - 148s 3s/step - loss: 0.3080 - binary_crossentropy: 0.3080 - accuracy: 0.9022 - val_loss: 0.3520 - val_binary_crossentropy: 0.3520 - val_accuracy: 0.9038\n",
            "Epoch 11/15\n",
            "53/53 [==============================] - 149s 3s/step - loss: 0.2942 - binary_crossentropy: 0.2942 - accuracy: 0.9026 - val_loss: 0.3370 - val_binary_crossentropy: 0.3370 - val_accuracy: 0.9071\n",
            "Epoch 12/15\n",
            "53/53 [==============================] - 149s 3s/step - loss: 0.2788 - binary_crossentropy: 0.2788 - accuracy: 0.9145 - val_loss: 0.3361 - val_binary_crossentropy: 0.3361 - val_accuracy: 0.8926\n",
            "Epoch 13/15\n",
            "53/53 [==============================] - 152s 3s/step - loss: 0.2746 - binary_crossentropy: 0.2746 - accuracy: 0.9078 - val_loss: 0.3220 - val_binary_crossentropy: 0.3220 - val_accuracy: 0.8990\n",
            "Epoch 14/15\n",
            "53/53 [==============================] - 152s 3s/step - loss: 0.2745 - binary_crossentropy: 0.2745 - accuracy: 0.9024 - val_loss: 0.3108 - val_binary_crossentropy: 0.3108 - val_accuracy: 0.9183\n",
            "Epoch 15/15\n",
            "53/53 [==============================] - 149s 3s/step - loss: 0.2585 - binary_crossentropy: 0.2585 - accuracy: 0.9133 - val_loss: 0.3228 - val_binary_crossentropy: 0.3228 - val_accuracy: 0.9135\n",
            "Test loss: 0.3228282928466797\n",
            "Test accuracy: 0.9134615659713745\n"
          ],
          "name": "stdout"
        }
      ]
    },
    {
      "cell_type": "markdown",
      "metadata": {
        "id": "W4akhmNJE6TM"
      },
      "source": [
        "### $\\underline{Saving\\;History}$"
      ]
    },
    {
      "cell_type": "code",
      "metadata": {
        "id": "eWu_uxP9wlMw"
      },
      "source": [
        "path_load = '/content/drive/My Drive/Colab Notebooks/Pneumonia_ML/chest_x_ray/model3-2'\n",
        "with open(path_load + '/accuracy.txt', 'w') as fh_va:\n",
        "  accuracy_result = [str(i) + '\\n' for i in history.history['val_accuracy']]\n",
        "  fh_va.writelines(accuracy_result)\n",
        "with open(path_load + '/train_accuracy.txt', 'w') as fh_a:\n",
        "  trainaccuracy_result = [str(i) + '\\n' for i in history.history['accuracy']]\n",
        "  fh_a.writelines(trainaccuracy_result)\n",
        "with open(path_load + '/loss.txt', 'w') as fh_vl:\n",
        "  loss_result = [str(i) + '\\n' for i in history.history['val_loss']]\n",
        "  fh_vl.writelines(loss_result)\n",
        "with open(path_load + '/train_loss.txt', 'w') as fh_l:\n",
        "  trainloss_result = [str(i) + '\\n' for i in history.history['loss']]\n",
        "  fh_l.writelines(trainloss_result)"
      ],
      "execution_count": null,
      "outputs": []
    },
    {
      "cell_type": "code",
      "metadata": {
        "id": "O5XYvMAAy-gH"
      },
      "source": [
        "path_load = '/content/drive/My Drive/Colab Notebooks/Pneumonia_ML/chest_x_ray/model3-2'\n",
        "fh_va = open(path_load + '/accuracy.txt', 'r')\n",
        "accuracy = fh_va.readlines()\n",
        "accuracy = [float(i) for i in accuracy]\n",
        "fh_a = open(path_load + '/train_accuracy.txt', 'r')\n",
        "train_accuracy = fh_a.readlines()\n",
        "train_accuracy = [float(i) for i in train_accuracy]\n",
        "fh_vl = open(path_load + '/loss.txt', 'r')\n",
        "loss = fh_vl.readlines()\n",
        "loss = [float(i) for i in loss]\n",
        "fh_l = open(path_load + '/train_loss.txt', 'r')\n",
        "train_loss = fh_l.readlines()\n",
        "train_loss = [float(i) for i in train_loss]"
      ],
      "execution_count": null,
      "outputs": []
    },
    {
      "cell_type": "code",
      "metadata": {
        "id": "3_z3h5p8wZ4_",
        "colab": {
          "base_uri": "https://localhost:8080/",
          "height": 325
        },
        "outputId": "41813279-0211-4000-9d37-cdb76b8d798c"
      },
      "source": [
        "plt.plot(accuracy[:9], 'o', label = 'test')\n",
        "plt.plot(train_accuracy[:9], 'o', label = 'train')\n",
        "plt.title('Model Accuracy', fontsize = 20)\n",
        "plt.ylabel('Accuracy', fontsize = 15)\n",
        "plt.xlabel('Epoch', fontsize = 15)\n",
        "plt.legend(loc='lower right', fontsize = 13)\n",
        "plt.xticks(fontsize = 13)\n",
        "plt.yticks(fontsize = 13)\n",
        "plt.ylim(0.5, 1)"
      ],
      "execution_count": null,
      "outputs": [
        {
          "output_type": "execute_result",
          "data": {
            "text/plain": [
              "(0.5, 1.0)"
            ]
          },
          "metadata": {
            "tags": []
          },
          "execution_count": 21
        },
        {
          "output_type": "display_data",
          "data": {
            "image/png": "[encoded data removed]",
            "text/plain": [
              "<Figure size 432x288 with 1 Axes>"
            ]
          },
          "metadata": {
            "tags": [],
            "needs_background": "light"
          }
        }
      ]
    },
    {
      "cell_type": "code",
      "metadata": {
        "id": "ZUwMJ3u3gEYD",
        "colab": {
          "base_uri": "https://localhost:8080/",
          "height": 325
        },
        "outputId": "bad8ff4f-e86a-4596-e813-e4cc77879768"
      },
      "source": [
        "plt.plot(loss[:9], 'o', label = 'test')\n",
        "plt.plot(train_loss[:9], 'o', label = 'train')\n",
        "plt.title('Model Loss', fontsize = 20)\n",
        "plt.ylabel('Loss', fontsize = 15)\n",
        "plt.xlabel('Epoch', fontsize = 15)\n",
        "plt.legend(loc='upper right', fontsize = 13)\n",
        "plt.xticks(fontsize = 13)\n",
        "plt.yticks(fontsize = 13)\n",
        "plt.ylim(0, 1)"
      ],
      "execution_count": null,
      "outputs": [
        {
          "output_type": "execute_result",
          "data": {
            "text/plain": [
              "(0.0, 1.0)"
            ]
          },
          "metadata": {
            "tags": []
          },
          "execution_count": 22
        },
        {
          "output_type": "display_data",
          "data": {
            "image/png": "[encoded data removed]",
            "text/plain": [
              "<Figure size 432x288 with 1 Axes>"
            ]
          },
          "metadata": {
            "tags": [],
            "needs_background": "light"
          }
        }
      ]
    },
    {
      "cell_type": "code",
      "metadata": {
        "id": "Cycznb9QFqka"
      },
      "source": [
        ""
      ],
      "execution_count": null,
      "outputs": []
    }
  ]
}